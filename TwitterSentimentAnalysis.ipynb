{
 "metadata": {
  "language_info": {
   "codemirror_mode": {
    "name": "ipython",
    "version": 3
   },
   "file_extension": ".py",
   "mimetype": "text/x-python",
   "name": "python",
   "nbconvert_exporter": "python",
   "pygments_lexer": "ipython3",
   "version": "3.7.9"
  },
  "orig_nbformat": 2,
  "kernelspec": {
   "name": "python3",
   "display_name": "Python 3.7.9 64-bit ('nlp_course': conda)",
   "metadata": {
    "interpreter": {
     "hash": "1a017baddbe85d95fa6ddf3a903f50142464908e41f644b56c4f018c45545e18"
    }
   }
  }
 },
 "nbformat": 4,
 "nbformat_minor": 2,
 "cells": [
  {
   "cell_type": "code",
   "execution_count": 9,
   "metadata": {},
   "outputs": [],
   "source": [
    "import tweepy\n",
    "import pandas as pd\n",
    "import numpy as np\n",
    "from nltk.sentiment.vader import SentimentIntensityAnalyzer"
   ]
  },
  {
   "cell_type": "code",
   "execution_count": 10,
   "metadata": {},
   "outputs": [],
   "source": [
    "%run ./settings.py"
   ]
  },
  {
   "cell_type": "code",
   "execution_count": 11,
   "metadata": {},
   "outputs": [],
   "source": [
    "def scrape_tweet(word, timeline, tweet_count):\n",
    "    df = pd.DataFrame(columns=['username', 'location', 'following',\n",
    "                               'followers', 'retweetcount', 'text', 'hashtags', 'time'])\n",
    "    tweets = tweepy.Cursor(api.search, q=word, lang=\"en\",\n",
    "                           since=timeline, tweet_mode='extended').items(tweet_count)\n",
    "    list_tweets = [tweet for tweet in tweets]\n",
    "    i = 1  \n",
    "    for tweet in list_tweets:\n",
    "        username = tweet.user.screen_name\n",
    "        location = tweet.user.location\n",
    "        following = tweet.user.friends_count\n",
    "        followers = tweet.user.followers_count\n",
    "        time = tweet.created_at\n",
    "        retweetcount = tweet.retweet_count\n",
    "        hashtags = tweet.entities['hashtags']\n",
    "        try:\n",
    "            text = tweet.retweeted_status.full_text\n",
    "        except AttributeError:\n",
    "            text = tweet.full_text\n",
    "        hashtext = list()\n",
    "        for j in range(0, len(hashtags)):\n",
    "            hashtext.append(hashtags[j]['text'])\n",
    "        tweet = [username, location, following,\n",
    "                     followers, retweetcount, text, hashtext, time]\n",
    "        df.loc[len(df)] = tweet\n",
    "        i = i+1\n",
    "\n",
    "    return df"
   ]
  },
  {
   "cell_type": "code",
   "execution_count": 12,
   "metadata": {},
   "outputs": [],
   "source": [
    "def sentiment_analyser(df):\n",
    "    sid = SentimentIntensityAnalyzer()\n",
    "    df['scores'] = df['text'].apply(lambda text: sid.polarity_scores(text))\n",
    "    df['compound']  = df['scores'].apply(lambda score_dict: score_dict['compound'])\n",
    "    df['Sentiment'] = df['compound'].apply(lambda c: 'Positive' if c >=0 else 'Negative')\n",
    "    return df"
   ]
  },
  {
   "cell_type": "code",
   "execution_count": 14,
   "metadata": {},
   "outputs": [],
   "source": [
    "def sentiment_analyser_metrics(df):\n",
    "    pos = df['Sentiment'].value_counts()[0] / len(df['Sentiment'])\n",
    "    neg = df['Sentiment'].value_counts()[1] / len(df['Sentiment'])\n",
    "    print('Percent of positive sentiment:', pos*100,'%')\n",
    "    print('Percent of negative sentiment:', neg*100,'%')"
   ]
  },
  {
   "cell_type": "code",
   "execution_count": 15,
   "metadata": {},
   "outputs": [
    {
     "output_type": "stream",
     "name": "stdout",
     "text": [
      "Enter Twitter HashTag to search for\n",
      "Enter Date since The Tweets are required in yyyy-mm--dd\n",
      "Percent of positive sentiment: 95.0 %\n",
      "Percent of negative sentiment: 5.0 %\n",
      "Total Tweets for the selected time range: 100\n"
     ]
    }
   ],
   "source": [
    "if __name__ == '__main__':\n",
    "      \n",
    "    # Enter your own credentials obtained \n",
    "    # from your developer account\n",
    "    consumer_key = API_KEY\n",
    "    consumer_secret = API_KEY_SECRET\n",
    "    access_key = ACCESS_TOKEN\n",
    "    access_secret = ACCESS_TOKEN_SECRET\n",
    "    auth = tweepy.OAuthHandler(consumer_key, consumer_secret)\n",
    "    auth.set_access_token(access_key, access_secret)\n",
    "    api = tweepy.API(auth)\n",
    "      \n",
    "    # Enter Hashtag and initial date\n",
    "    print(\"Enter Twitter HashTag to search for (without #)\")\n",
    "    word = input()\n",
    "    print(\"Enter Date since The Tweets are required in yyyy-mm--dd\")\n",
    "    timeline = input()\n",
    "    print(\"Enter the number of tweets to be retrieved for the given timeline (numbers only)\")\n",
    "    tweet_count = int(input())\n",
    "      \n",
    "    # number of tweets you want to extract in one run\n",
    "    scrape_tweet(word, timeline, tweet_count)\n",
    "    df = scrape_tweet(word, timeline, tweet_count)\n",
    "    df = sentiment_analyser(df)\n",
    "    sentiment_analyser_metrics(df)"
   ]
  },
  {
   "cell_type": "code",
   "execution_count": null,
   "metadata": {},
   "outputs": [],
   "source": []
  }
 ]
}